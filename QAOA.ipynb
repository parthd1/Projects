{
 "cells": [
  {
   "cell_type": "markdown",
   "metadata": {},
   "source": [
    "## QAOA Homework\n",
    "### Quantum Computing FRI Stream Fall 2019"
   ]
  },
  {
   "cell_type": "markdown",
   "metadata": {},
   "source": [
    "#### The aim of this project is to use your knowledge of quantum simulation and the quantum approximate optimization algorithm to solve an optimization problem. You will need to figure out how to represent your problem in quantum terms and then use your Hamiltonian to construct the state necessary for QAOA. Use an 8 qubit input space (8 vertices on the graph) and sample across the ranges of the parameters, $\\gamma$ and $\\beta$, in order to get an idea of where the cost function is the highest and lowest."
   ]
  },
  {
   "cell_type": "raw",
   "metadata": {},
   "source": []
  },
  {
   "cell_type": "markdown",
   "metadata": {},
   "source": [
    "### 1. Choose and describe the problem you'd like to solve:\n",
    "#### Max-Clique, Weighted Max-Cut, Weighted MAX-SAT, Weighted Graph Coloring, Ising Model"
   ]
  },
  {
   "cell_type": "markdown",
   "metadata": {},
   "source": []
  },
  {
   "cell_type": "markdown",
   "metadata": {},
   "source": [
    "### 2. Cast the problem as an optimization problem."
   ]
  },
  {
   "cell_type": "markdown",
   "metadata": {},
   "source": []
  },
  {
   "cell_type": "markdown",
   "metadata": {},
   "source": [
    "### 3. Write out a general cost function for the problem. This can be the Hamiltonian for the system. "
   ]
  },
  {
   "cell_type": "markdown",
   "metadata": {},
   "source": []
  },
  {
   "cell_type": "markdown",
   "metadata": {},
   "source": [
    "### 4. Use your cost function to construct a general constraint operator (called V in the lectures)."
   ]
  },
  {
   "cell_type": "markdown",
   "metadata": {},
   "source": []
  },
  {
   "cell_type": "markdown",
   "metadata": {},
   "source": [
    "# Implementation"
   ]
  },
  {
   "cell_type": "code",
   "execution_count": 2,
   "metadata": {},
   "outputs": [],
   "source": [
    "#Weighted Max Cut\n",
    "#Import the necessary tools for the computation\n",
    "import numpy as np\n",
    "from qiskit import ClassicalRegister, QuantumRegister, QuantumCircuit\n",
    "from qiskit import execute,Aer\n",
    "\n",
    "#number of qubits \n",
    "n = 7\n"
   ]
  },
  {
   "cell_type": "markdown",
   "metadata": {},
   "source": [
    "### 5. Write a function to implement V and write a function to implement the driver, W, on your qubit system."
   ]
  },
  {
   "cell_type": "code",
   "execution_count": 3,
   "metadata": {},
   "outputs": [],
   "source": [
    "       \n",
    "def v(qc, qubits, edge, gamma):\n",
    "    qc.barrier()\n",
    "    for i in edge:\n",
    "        qc.cx(q[i[1]], q[0])\n",
    "        qc.cx(q[i[0]], q[0])\n",
    "        #multiply the gamma by the weights\n",
    "        qc.u1(gamma * i[2], q[0])\n",
    "        qc.cx(q[i[0]], q[0])\n",
    "        qc.cx(q[i[1]], q[0])\n",
    "        qc.barrier()"
   ]
  },
  {
   "cell_type": "code",
   "execution_count": 4,
   "metadata": {},
   "outputs": [],
   "source": [
    "def W(qc, beta, qubits):\n",
    "    for i in range(1, qubits, 1):\n",
    "        qc.h(q[i])\n",
    "        qc.u1(-2*gamma, q[i])\n",
    "        qc.h(q[i])\n"
   ]
  },
  {
   "cell_type": "code",
   "execution_count": 5,
   "metadata": {},
   "outputs": [
    {
     "ename": "SyntaxError",
     "evalue": "unexpected EOF while parsing (<ipython-input-5-03bda69aed1d>, line 1)",
     "output_type": "error",
     "traceback": [
      "\u001b[0;36m  File \u001b[0;32m\"<ipython-input-5-03bda69aed1d>\"\u001b[0;36m, line \u001b[0;32m1\u001b[0m\n\u001b[0;31m    gamma, beta = np.mgrid[0:2.1*np.pi:.2*np.pi, 0:1.1*np.pi:.2*np.pi\u001b[0m\n\u001b[0m                                                                     ^\u001b[0m\n\u001b[0;31mSyntaxError\u001b[0m\u001b[0;31m:\u001b[0m unexpected EOF while parsing\n"
     ]
    }
   ],
   "source": [
    "gamma, beta = np.mgrid[0:2.1*np.pi:.2*np.pi, 0:1.1*np.pi:.2*np.pi"
   ]
  },
  {
   "cell_type": "markdown",
   "metadata": {},
   "source": [
    "### 6. Prepare the parameters for your simulation.\n",
    "\n",
    "#### This includes creating a grid of $\\gamma$ and $\\beta$ parameters. An example of such a grid is given in the assignment slide.\n",
    "\n",
    "#### Think about how to generate your input space. You will need a graph with 8 vertices and a random assignment of edges. The graph should be connected more fully than a ring but less fully than all-to-all. The edges will determine which qubits you pair up when evaluating your cost function. Make sure to print out the list of edges, so there is a record of your particular graph.\n",
    "\n",
    "#### You will also need to consider the values you will assign to your qubits. Depending on your choice of problem, you may want to handle the initialization differently. Figure this out now and, perhaps, prepare an array of values you will use in your qubit initialization in the next step."
   ]
  },
  {
   "cell_type": "code",
   "execution_count": null,
   "metadata": {},
   "outputs": [],
   "source": [
    "def edge(n):\n",
    "    edges = []\n",
    "    numEdge = random.randint(n,(n(n-1)/2)) #random number of edges\n",
    "   \n",
    "    count = 0\n",
    "    a = 1\n",
    "    b = 2\n",
    "    for i in range(numEdge):\n",
    "        if(a == n):\n",
    "            edges.append([1, a])\n",
    "        else:\n",
    "            edges.append([a, b])\n",
    "        #iterate counter variables\n",
    "        a += 1\n",
    "        b += 1\n",
    "        count += 1\n",
    "    while count != numEdge:\n",
    "        weight = random.randint(1,10) #random weight\n",
    "        a = random.randint(1, n)\n",
    "        b = random.randint(1, n)\n",
    "        e = [a, b]\n",
    "        e.sort()\n",
    "        \n",
    "        if b != a and e not in edges:\n",
    "            edges.append(e)\n",
    "            count += 1\n",
    "    edgesSort = sorted(edges, key = lambda e: e[0])\n",
    "    \n",
    "    for e in edgesSort:\n",
    "        weight = random.randint(1,10)\n",
    "        e.append(weight)\n",
    "    return edgesSort\n",
    "    \n",
    "\n",
    "    "
   ]
  },
  {
   "cell_type": "code",
   "execution_count": null,
   "metadata": {},
   "outputs": [],
   "source": [
    "def Cost(a, p):\n",
    "    count = 0\n",
    "    p = p / 100\n",
    "    for i in a:\n",
    "        for j in a:\n",
    "        #I have a general idea of how the cost function works but don't understand how to implement it into code.\n",
    "            if i != j:\n",
    "                count += 1\n",
    "    return count * p\n"
   ]
  },
  {
   "cell_type": "markdown",
   "metadata": {},
   "source": [
    "### 7. Do the deed! Use your functions to prepare the state at each grid point. Use measurements to evaluate the cost function at each point. Keep track of these values. A loop may be helpful for streamlining your implementation.\n",
    "\n",
    "### Your entire quantum circuit should be contained in this step."
   ]
  },
  {
   "cell_type": "code",
   "execution_count": null,
   "metadata": {},
   "outputs": [],
   "source": [
    "edge = edges(n)\n",
    "array = []\n",
    "gammaList = [value for row in gamma for value in row]\n",
    "betaList = [value for row in beta for value in row]\n",
    "\n",
    "\n",
    "for g_r, b_r in zip(gamma, beta):\n",
    "    for g, b in zip(g_r, b_r):\n",
    "        q = QuantumRegister(n + 1)\n",
    "        c = ClassicalRegister(n + 1)\n",
    "        for i in range(1, n):\n",
    "            qc.h(q[i])\n",
    "        V(qc, n, edge, g) \n",
    "        W(qc, n, b)\n",
    "        for i in range(1,n):\n",
    "            qc.measure(q[i], c[i])\n",
    "        \n",
    "        backend = Aer.get_backend('qasm_simulator')\n",
    "        job = execute(qc, backend, shots=100)\n",
    "        result = job.result()\n",
    "        count=result.get_counts(qc)\n",
    "        \n",
    "        value = 0\n",
    "        \n",
    "        for i, j in count.items():\n",
    "            value += Cost(i, j)\n",
    "        array.append(value)      \n",
    "\n",
    "print(array)\n"
   ]
  },
  {
   "cell_type": "markdown",
   "metadata": {},
   "source": [
    "### 8. Plot your results.\n",
    "#### Creativity is welcome, but one option is a multidimensional histogram with the cost function as the height and the location dependent on the parameter grid."
   ]
  },
  {
   "cell_type": "code",
   "execution_count": null,
   "metadata": {},
   "outputs": [],
   "source": [
    "qc.draw(output = 'mpl')\n",
    "\n",
    "import matplotlib.pyplot as plt\n",
    "from mpl_toolkits import mplot3d\n",
    "\n",
    "X=np.array(gamma_list)\n",
    "Y=np.array(beta_list)\n",
    "Z=np.array(array)\n",
    "\n",
    "fig = plt.figure()\n",
    "ax = plt.axes(projection='3d')\n",
    "ax.plot_trisurf(X, Y, Z, linewidth=0, antialiased=False)\n",
    "ax.set_title('Expectation Values for Gamma & Beta')\n",
    "ax.set_xlabel('Gamma')\n",
    "ax.set_ylabel('Beta')"
   ]
  },
  {
   "cell_type": "markdown",
   "metadata": {},
   "source": [
    "### 9. Comment on the process of converting your problem to the necessary form, implementing your functions, and interpreting your results. Finally, give your best approximation to the solution of your chosen problem.\n",
    "\n",
    "### Answer: I mainly used the powerpoint slides as reference in converting the problem into what I need. The main issue I faced was actually translating the theory into code. The two things I had the most trouble with were generating the graph (specifically generating the edges and general graph theory) and implementing and evaluating the cost function. "
   ]
  },
  {
   "cell_type": "markdown",
   "metadata": {},
   "source": []
  }
 ],
 "metadata": {
  "kernelspec": {
   "display_name": "Python 3",
   "language": "python",
   "name": "python3"
  },
  "language_info": {
   "codemirror_mode": {
    "name": "ipython",
    "version": 3
   },
   "file_extension": ".py",
   "mimetype": "text/x-python",
   "name": "python",
   "nbconvert_exporter": "python",
   "pygments_lexer": "ipython3",
   "version": "3.7.3"
  }
 },
 "nbformat": 4,
 "nbformat_minor": 2
}
