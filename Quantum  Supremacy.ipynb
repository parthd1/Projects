{
 "cells": [
  {
   "cell_type": "code",
   "execution_count": 12,
   "metadata": {
    "scrolled": true
   },
   "outputs": [],
   "source": [
    "#Import the necessary tools for the computation\n",
    "import numpy as np\n",
    "import random\n",
    "from qiskit import ClassicalRegister, QuantumRegister, QuantumCircuit\n",
    "from qiskit import execute,Aer\n",
    "from qiskit import IBMQ\n",
    "from matplotlib import pyplot as plt\n",
    "from IPython.core.debugger import set_trace\n",
    "barriers = True"
   ]
  },
  {
   "cell_type": "code",
   "execution_count": 13,
   "metadata": {},
   "outputs": [
    {
     "name": "stderr",
     "output_type": "stream",
     "text": [
      "C:\\Users\\Parth\\Anaconda3\\lib\\site-packages\\qiskit\\providers\\ibmq\\ibmqfactory.py:181: UserWarning: Credentials are already in use. The existing account in the session will be replaced.\n",
      "  warnings.warn('Credentials are already in use. The existing '\n"
     ]
    },
    {
     "data": {
      "text/plain": [
       "<AccountProvider for IBMQ(hub='ibm-q', group='open', project='main')>"
      ]
     },
     "execution_count": 13,
     "metadata": {},
     "output_type": "execute_result"
    }
   ],
   "source": [
    "#Make sure to execute this command at least once before you try to connect to the hardware backend.\n",
    "#If you have trouble please consult lecture 2, the online QISKit documentation, or contact us.\n",
    "IBMQ.load_account()"
   ]
  },
  {
   "cell_type": "markdown",
   "metadata": {},
   "source": [
    "### In this notebook, you will mimic Google's quantum supremacy experiment by constructing a random quantum circuit and running it on simulators as well as IBM's hardware backend.\n",
    "\n",
    "### Use 12 qubits. Your circuit depth for this project will be measured in cycles where each cycle corresponds to a round of single qubit gates followed by a round of CZs.\n",
    "\n",
    "### In each cycle, choose a random single qubit gate for each qubit using U3. Randomly choose these via a seed, so you can easily reproduce the random sequence. U3 takes 3 parameters which you should choose as follows: \n",
    "\n",
    "### $\\theta = 2 \\cos^{-1} (\\text{r.random()})$\n",
    "### $\\lambda = 2 \\pi * \\text{r.random()}$\n",
    "### $\\phi = 2 \\pi * \\text{r.random()}$\n",
    "\n",
    "### After applying the single qubit gates, apply the appropriate CZ gates according to the following pattern:\n",
    "### On even cycles CZ nearest neighbor qubits such as 0-1,  2-3,  4-5,  6-7,  8-9,  10-11\n",
    "### On odd cycles CZ qubits which are $\\frac{n}{2}$ away from one another such as 0-6,  1-7,...\n",
    "### Repeat"
   ]
  },
  {
   "cell_type": "markdown",
   "metadata": {},
   "source": [
    "### Do this for circuit depths ranging from 1 cycle to 12 cycles. For each random circuit, make a record of the random number sequence which was used to generate the gates."
   ]
  },
  {
   "cell_type": "markdown",
   "metadata": {},
   "source": [
    "### Run your circuit on the statevector simulator as the ideal classical simulation. Note that for the statevector simulator, you should not include the measurement gates in your circuit. \n",
    "### Then run it on the qasm simulator and the hardware backend in order to get measurement frequencies."
   ]
  },
  {
   "cell_type": "markdown",
   "metadata": {},
   "source": [
    "### Once you have the probabilities and frequencies, you will be calculating the linear cross entropy fidelity, $\\mathscr{F}_{XEB}$ of your run. At each depth, do all of this for at least 2 different random circuit realizations on both the qasm simulator and the hardware."
   ]
  },
  {
   "cell_type": "code",
   "execution_count": 14,
   "metadata": {},
   "outputs": [],
   "source": [
    "n=12"
   ]
  },
  {
   "cell_type": "markdown",
   "metadata": {},
   "source": [
    "#### When a random seed is set, random numbers can be generated in a sequence which will be exactly duplicated each time the same seed is used. Therefore, the following cell which sets the random seed should be executed before each NEW depth circuit. But it should not be executed between DIFFERENT circuits of the same depth. "
   ]
  },
  {
   "cell_type": "code",
   "execution_count": 358,
   "metadata": {},
   "outputs": [],
   "source": [
    "#This cell allows you to set a seed for your random number generation.\n",
    "#By using the same seed, you can repeatedly generate the same random sequence.\n",
    "#Take advantage of this in order to test the same random ciruit on multiple backends.\n",
    "\n",
    "#This cell should be executed\n",
    "r = random.Random()\n",
    "r.seed('14')\n",
    "#seed1: 'plant seed here' - depth = 4\n",
    "#seet2: '11' - depth = 5\n",
    "#seed3: '12' - depth = 6\n",
    "#seed4: '13' - depth = 7\n",
    "#seed5: '14' - depth = 3\n",
    "#seed6: '15' - depth = 2\n",
    "#seed7: '16' - depth = 1"
   ]
  },
  {
   "cell_type": "code",
   "execution_count": 371,
   "metadata": {},
   "outputs": [],
   "source": [
    "q=QuantumRegister(n)\n",
    "c=ClassicalRegister(n)\n",
    "qc=QuantumCircuit(q,c)"
   ]
  },
  {
   "cell_type": "code",
   "execution_count": 372,
   "metadata": {},
   "outputs": [],
   "source": [
    "# 1st choose the depth of your current run\n",
    "depth = 3\n",
    "def barrier(qc):\n",
    "    if barrier:\n",
    "        qc.barrier()\n",
    "# Then construct your circuit\n",
    "for i in range(depth):\n",
    "    #Put the single qubit gates here\n",
    "    #set_trace()\n",
    "    qc.u3(2 * np.arccos(r.random()), 2 * np.pi * r.random(), 2 * np.pi * r.random(), q[i])\n",
    "\n",
    "    #Put the CZs here\n",
    "    if i % 2 == 0:\n",
    "        qc.cz(q[i], q[i+1])\n",
    "    elif i % 2 == 1:\n",
    "        qc.cz(q[i], q[i+int((n/2))])\n",
    "\n",
    "    #These barriers separate each cycle\n",
    "    qc.barrier()\n",
    "    #barrier(qc)"
   ]
  },
  {
   "cell_type": "code",
   "execution_count": 238,
   "metadata": {},
   "outputs": [
    {
     "data": {
      "text/plain": [
       "<qiskit.circuit.instructionset.InstructionSet at 0x1f1eeff5648>"
      ]
     },
     "execution_count": 238,
     "metadata": {},
     "output_type": "execute_result"
    }
   ],
   "source": [
    "qc.measure(q,c)"
   ]
  },
  {
   "cell_type": "markdown",
   "metadata": {},
   "source": [
    "### The following cells select which backend runs your quantum circuit. Only execute the desired commands.\n",
    "#### If you have trouble with the backends, reference lecture 2, the QISKit documentation, and/or ask us for help."
   ]
  },
  {
   "cell_type": "markdown",
   "metadata": {},
   "source": [
    "Choose a backend"
   ]
  },
  {
   "cell_type": "code",
   "execution_count": 373,
   "metadata": {},
   "outputs": [],
   "source": [
    "#In order for this to work, there must be no measurement gates in your circuit (or simply don't execute them)\n",
    "backend = Aer.get_backend('statevector_simulator')"
   ]
  },
  {
   "cell_type": "code",
   "execution_count": 206,
   "metadata": {},
   "outputs": [],
   "source": [
    "backend = Aer.get_backend('qasm_simulator')"
   ]
  },
  {
   "cell_type": "code",
   "execution_count": 379,
   "metadata": {},
   "outputs": [],
   "source": [
    "provider = IBMQ.get_provider(group='open')\n",
    "backend=provider.get_backend('ibmq_16_melbourne')"
   ]
  },
  {
   "cell_type": "markdown",
   "metadata": {},
   "source": [
    "Run the job"
   ]
  },
  {
   "cell_type": "code",
   "execution_count": 374,
   "metadata": {},
   "outputs": [],
   "source": [
    "#Notice the high shot count\n",
    "job = execute(qc, backend, shots=8192)"
   ]
  },
  {
   "cell_type": "code",
   "execution_count": 380,
   "metadata": {},
   "outputs": [],
   "source": [
    "job = backend.retrieve_job('5da7af8c43fe7b0011dcde83')"
   ]
  },
  {
   "cell_type": "code",
   "execution_count": 381,
   "metadata": {},
   "outputs": [],
   "source": [
    "result = job.result()"
   ]
  },
  {
   "cell_type": "markdown",
   "metadata": {},
   "source": [
    "Save your results"
   ]
  },
  {
   "cell_type": "code",
   "execution_count": null,
   "metadata": {},
   "outputs": [],
   "source": [
    "#Choose one of these!"
   ]
  },
  {
   "cell_type": "code",
   "execution_count": 376,
   "metadata": {},
   "outputs": [],
   "source": [
    "statevec=result.get_statevector(qc)"
   ]
  },
  {
   "cell_type": "code",
   "execution_count": 382,
   "metadata": {},
   "outputs": [],
   "source": [
    "counts=result.get_counts()"
   ]
  },
  {
   "cell_type": "markdown",
   "metadata": {},
   "source": [
    "### Save your frequency/probability data from your runs, and use them to calculate the linear cross entropy fidelity for the qasm simulator and the actual hardware at each circuit depth."
   ]
  },
  {
   "cell_type": "markdown",
   "metadata": {},
   "source": [
    "### In order to retrieve your results from IBM's hardware, you have a few options. When you submit a job to the hardware backend, your job will enter a queue which means you will have to wait. You can either submit this job from your local jupyter notebook the way we have previously discussed, or you can run your codes on the IBM quantum experience website's provided jupyter notebooks. If running online, you can retrieve results just like you would with the qasm simulator only with a long wait for the job. If you submit from your local machine, you can find the results page on the website. From the results page, download the .json file. This file will contain, among other things, the counts data which you can import, save into a new file, or copy and paste into your notebook."
   ]
  },
  {
   "cell_type": "markdown",
   "metadata": {},
   "source": [
    "### IMPORTANT: Your $\\mathscr{F}_{XEB}$ falling outside of  $\\left[0,1\\right]$ does not necessarily mean it is incorrect"
   ]
  },
  {
   "cell_type": "code",
   "execution_count": 256,
   "metadata": {},
   "outputs": [],
   "source": [
    "#Generate a list of all the possible binary outputs\n",
    "BL=[] #Binary List - list of binary numbers from 0 to 2**n-1\n",
    "for i in range(2**n):\n",
    "    BL.append(bin(i)[2:].zfill(n))"
   ]
  },
  {
   "cell_type": "code",
   "execution_count": 257,
   "metadata": {},
   "outputs": [],
   "source": [
    "#From the output of the qasm simulation, convert counts to frequencies and save to a list \n",
    "# which matches up with the list of binaries, BL\n",
    "fout=[] #frequencies of outputs\n",
    "totalshots=sum(counts.values())\n",
    "for i in BL:\n",
    "    if i in counts.keys():\n",
    "        fout.append(counts[i]/totalshots)\n",
    "    else:\n",
    "        fout.append(0)"
   ]
  },
  {
   "cell_type": "code",
   "execution_count": 377,
   "metadata": {},
   "outputs": [],
   "source": [
    "#statevec will contain the probability amplitude for each possible binary string, so we convert them to probabilities\n",
    "probabilities=statevec*statevec.conjugate()"
   ]
  },
  {
   "cell_type": "markdown",
   "metadata": {},
   "source": [
    "### Reminder: $\\mathscr{F}_{XEB}=2^{n}\\langle P(x)\\rangle-1=2^{n} \\sum_{x} P(x)f(x) -1$"
   ]
  },
  {
   "cell_type": "code",
   "execution_count": 258,
   "metadata": {},
   "outputs": [],
   "source": [
    "#Write a function which takes the frequencies and probabilities as input and outputs the linear cross entropy fidelity\n",
    "def FXEB(fout, probabilities):\n",
    "    expectation = 0\n",
    "    for i,j in zip(fout, probabilities):\n",
    "        result = i*j\n",
    "        expectation += result\n",
    "    fxeb = (2**n) * expectation - 1\n",
    "    return fxeb"
   ]
  },
  {
   "cell_type": "code",
   "execution_count": 370,
   "metadata": {},
   "outputs": [],
   "source": [
    "trial1 = FXEB(fout,probabilities)"
   ]
  },
  {
   "cell_type": "code",
   "execution_count": 383,
   "metadata": {},
   "outputs": [],
   "source": [
    "trial2 = FXEB(fout, probabilities)"
   ]
  },
  {
   "cell_type": "code",
   "execution_count": 43,
   "metadata": {},
   "outputs": [],
   "source": [
    "sim_fidelity = [] #run only once"
   ]
  },
  {
   "cell_type": "code",
   "execution_count": 212,
   "metadata": {},
   "outputs": [],
   "source": [
    "average = (trial1 + trial2)/2\n",
    "sim_fidelity.append([average, depth])\n",
    "#sim_fidelity.insert(0, [average, depth])"
   ]
  },
  {
   "cell_type": "code",
   "execution_count": 213,
   "metadata": {},
   "outputs": [
    {
     "name": "stdout",
     "output_type": "stream",
     "text": [
      "[(2231.6655943324554+0j), 1]\n",
      "[(1856.6027632548103+0j), 2]\n",
      "[(1055.1137825580079+0j), 3]\n",
      "[(1273.9566840411258+0j), 4]\n",
      "[(486.48603779846115+0j), 5]\n",
      "[(217.35930327618746+0j), 6]\n",
      "[(128.18413319632734+0j), 7]\n"
     ]
    }
   ],
   "source": [
    "for i in sim_fidelity:\n",
    "    print(i)"
   ]
  },
  {
   "cell_type": "code",
   "execution_count": 260,
   "metadata": {},
   "outputs": [],
   "source": [
    "hardware_fidelity = [] #run only once"
   ]
  },
  {
   "cell_type": "code",
   "execution_count": null,
   "metadata": {},
   "outputs": [],
   "source": [
    "#depth 4\n",
    "#backend.retrieve_job('5da42d03743a6b001814c214')\n",
    "#depth 5\n",
    "#backend.retrieve_job('5da561f4beb3350011051277') #trial 1\n",
    "#backend.retrieve_job('5da5ce923c1181001284dbf1') #trial 2\n",
    "#depth 6 \n",
    "#backend.retrieve_job('5da5e4a643fe7b0011dcce17') #trial 1\n",
    "#backend.retrieve_job('5da5e82de31238001199b633') #trial 2\n",
    "#depth 7\n",
    "#backend.retrieve_job('5da5e8c540a83b0011988256') #trial 1\n",
    "#backend.retrieve_job('5da5ecfc4ce7bf0011aacd68') #trial 2\n",
    "#depth 3 \n",
    "#backend.retrieve_job('5da7ad993c1181001284ee02') #trial 1\n",
    "backend.retrieve_job('5da7af8c43fe7b0011dcde83') #trial 2"
   ]
  },
  {
   "cell_type": "code",
   "execution_count": 388,
   "metadata": {},
   "outputs": [],
   "source": [
    "average = (trial1 + trial2)/2\n",
    "#average = trial1\n",
    "#hardware_fidelity.append([average, depth])\n",
    "hardware_fidelity.insert(0, [average, depth])"
   ]
  },
  {
   "cell_type": "code",
   "execution_count": 389,
   "metadata": {},
   "outputs": [
    {
     "name": "stdout",
     "output_type": "stream",
     "text": [
      "[(1.1139395313028067+0j), 3]\n",
      "[(-0.9057214437256331+0j), 4]\n",
      "[(4.564671032102008+0j), 5]\n",
      "[(14.316033130776555+0j), 6]\n",
      "[(5.374858009534344+0j), 7]\n"
     ]
    }
   ],
   "source": [
    "for i in hardware_fidelity:\n",
    "    print(i)"
   ]
  },
  {
   "cell_type": "markdown",
   "metadata": {},
   "source": [
    "#### Make sure to save your calculated $\\mathscr{F}_{XEB}$ for each run of each circuit depth before you run a new circuit"
   ]
  },
  {
   "cell_type": "code",
   "execution_count": null,
   "metadata": {},
   "outputs": [],
   "source": []
  },
  {
   "cell_type": "markdown",
   "metadata": {},
   "source": [
    "### Plot $\\mathscr{F}_{XEB}$ vs circuit depth for the qasm simulator and hardware backends on the same graph.\n",
    "#### For each backend, your 2 (or more) values of $\\mathscr{F}_{XEB}$ for each depth can be averaged together, plotted separately, or both."
   ]
  },
  {
   "cell_type": "code",
   "execution_count": 214,
   "metadata": {},
   "outputs": [
    {
     "name": "stderr",
     "output_type": "stream",
     "text": [
      "C:\\Users\\Parth\\Anaconda3\\lib\\site-packages\\numpy\\core\\numeric.py:538: ComplexWarning: Casting complex values to real discards the imaginary part\n",
      "  return array(a, dtype, copy=False, order=order)\n"
     ]
    },
    {
     "data": {
      "image/png": "[encoded data removed]",
      "text/plain": [
       "<Figure size 432x288 with 1 Axes>"
      ]
     },
     "metadata": {
      "needs_background": "light"
     },
     "output_type": "display_data"
    }
   ],
   "source": [
    "y = []\n",
    "x = []\n",
    "for i in range(len(sim_fidelity)):\n",
    "    y.append(sim_fidelity[i][0])\n",
    "    x.append(sim_fidelity[i][1])\n",
    "    plt.plot(x,y)"
   ]
  },
  {
   "cell_type": "code",
   "execution_count": 390,
   "metadata": {},
   "outputs": [
    {
     "name": "stderr",
     "output_type": "stream",
     "text": [
      "C:\\Users\\Parth\\Anaconda3\\lib\\site-packages\\numpy\\core\\numeric.py:538: ComplexWarning: Casting complex values to real discards the imaginary part\n",
      "  return array(a, dtype, copy=False, order=order)\n"
     ]
    },
    {
     "data": {
      "image/png": "[encoded data removed]",
      "text/plain": [
       "<Figure size 432x288 with 1 Axes>"
      ]
     },
     "metadata": {
      "needs_background": "light"
     },
     "output_type": "display_data"
    }
   ],
   "source": [
    "y = []\n",
    "x = []\n",
    "for i in range(len(hardware_fidelity)):\n",
    "    y.append(hardware_fidelity[i][0])\n",
    "    x.append(hardware_fidelity[i][1])\n",
    "    plt.plot(x,y)"
   ]
  },
  {
   "cell_type": "markdown",
   "metadata": {},
   "source": [
    "### Comment on  trends in the $\\mathscr{F}_{XEB}$ vs depth plot."
   ]
  },
  {
   "cell_type": "code",
   "execution_count": 391,
   "metadata": {},
   "outputs": [],
   "source": [
    "#The trends between the sim_fxeb plot vs depth are decreasing while the trend between the hardware_fxeb vs depth are increasing. "
   ]
  }
 ],
 "metadata": {
  "kernelspec": {
   "display_name": "Python 3",
   "language": "python",
   "name": "python3"
  },
  "language_info": {
   "codemirror_mode": {
    "name": "ipython",
    "version": 3
   },
   "file_extension": ".py",
   "mimetype": "text/x-python",
   "name": "python",
   "nbconvert_exporter": "python",
   "pygments_lexer": "ipython3",
   "version": "3.7.4"
  }
 },
 "nbformat": 4,
 "nbformat_minor": 2
}
